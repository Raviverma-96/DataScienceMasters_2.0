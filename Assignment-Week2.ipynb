{
 "cells": [
  {
   "cell_type": "markdown",
   "id": "31e817e7-8d16-49dd-becc-67a4f2347fb3",
   "metadata": {},
   "source": [
    "Q1. How do you comment code in Python? What are the different types of comments?"
   ]
  },
  {
   "cell_type": "code",
   "execution_count": 3,
   "id": "4952fe96-2085-437e-854d-b3dc971e9605",
   "metadata": {},
   "outputs": [
    {
     "name": "stdout",
     "output_type": "stream",
     "text": [
      "hello world\n"
     ]
    }
   ],
   "source": [
    "# Comments start with a # in python\n",
    "\n",
    "# This is a comment\n",
    "print(\"hello world\")"
   ]
  },
  {
   "cell_type": "code",
   "execution_count": 11,
   "id": "0fcbd014-c591-4a11-bd62-589b5cf68805",
   "metadata": {},
   "outputs": [
    {
     "data": {
      "text/plain": [
       "'This is \\na multiline\\ncomment in\\npython'"
      ]
     },
     "execution_count": 11,
     "metadata": {},
     "output_type": "execute_result"
    }
   ],
   "source": [
    "#Multiline Comments\n",
    "\n",
    "\"\"\"This is \n",
    "a multiline\n",
    "comment in\n",
    "python\"\"\""
   ]
  },
  {
   "cell_type": "code",
   "execution_count": null,
   "id": "32e6182a-06f6-4a39-8af0-cf2d7c6207b3",
   "metadata": {},
   "outputs": [],
   "source": []
  },
  {
   "cell_type": "markdown",
   "id": "7b8f7262-0eb9-44b1-b967-9cfd6132b54e",
   "metadata": {},
   "source": [
    " Q2. What are variables in Python? How do you declare and assign values to variables?"
   ]
  },
  {
   "cell_type": "code",
   "execution_count": 12,
   "id": "0426ee6e-90a4-430f-b4fb-8ba95beb3d04",
   "metadata": {},
   "outputs": [
    {
     "name": "stdout",
     "output_type": "stream",
     "text": [
      "5\n",
      "5.5\n",
      "ravi\n"
     ]
    }
   ],
   "source": [
    "# A variable in Python is a representational name that serves as a pointer to an object\n",
    "\n",
    "# Declare & Assign values\n",
    "# A variable is created the moment you first assign a value to it.\n",
    "\n",
    "a = 5 \n",
    "b = 5.5\n",
    "c = \"ravi\"\n",
    "print(a)\n",
    "print(b)\n",
    "print(c)"
   ]
  },
  {
   "cell_type": "code",
   "execution_count": null,
   "id": "32745302-d0d0-4cc8-88c5-2d157ab323cc",
   "metadata": {},
   "outputs": [],
   "source": []
  },
  {
   "cell_type": "markdown",
   "id": "43c98e4e-5fbc-4a36-aee4-470c830ddcff",
   "metadata": {},
   "source": [
    " Q3. How do you convert one data type to another in Python?"
   ]
  },
  {
   "cell_type": "code",
   "execution_count": 14,
   "id": "dd785f47-c756-4135-a613-aeaa4de27cee",
   "metadata": {},
   "outputs": [
    {
     "name": "stdout",
     "output_type": "stream",
     "text": [
      "<class 'int'>\n",
      "<class 'float'>\n",
      "10.0\n",
      "<class 'float'>\n"
     ]
    }
   ],
   "source": [
    "''' Implicit Type Conversion:\n",
    "It is a type of type conversion in which handles automatically convert\n",
    "one data type to another without any user involvement. '''\n",
    "\n",
    "x = 10\n",
    "print(type(a))\n",
    " \n",
    "y = 1.0\n",
    "print(type(b))\n",
    " \n",
    "z = x//y\n",
    "print(z)\n",
    "print(type(z))"
   ]
  },
  {
   "cell_type": "code",
   "execution_count": 15,
   "id": "dd4601fa-aceb-4a85-bf0e-b8cd5f929740",
   "metadata": {},
   "outputs": [
    {
     "name": "stdout",
     "output_type": "stream",
     "text": [
      "<class 'str'>\n"
     ]
    }
   ],
   "source": [
    "''' Explicit Type Conversion:\n",
    "In Explicit type conversion, user involvement is required. \n",
    "The user converts one data type to another according to his own need.\n",
    "This can be done with the help of str(), int(), float(), etc. functions\n",
    "'''\n",
    "\n",
    "a = 10\n",
    "s = str(a)\n",
    "print(type(s))"
   ]
  },
  {
   "cell_type": "code",
   "execution_count": 16,
   "id": "1314787c-d817-41ac-bed3-bcb0211e4381",
   "metadata": {},
   "outputs": [
    {
     "name": "stdout",
     "output_type": "stream",
     "text": [
      "String: ravi\n",
      "Number: 10\n"
     ]
    }
   ],
   "source": [
    "s = 'ravi'\n",
    "n = 10\n",
    "print(\"String: \" + s + \"\\nNumber: \" + str(n))"
   ]
  },
  {
   "cell_type": "code",
   "execution_count": 18,
   "id": "a1e0909c-3ce2-42ce-9103-3457f096c114",
   "metadata": {},
   "outputs": [
    {
     "name": "stdout",
     "output_type": "stream",
     "text": [
      "<class 'int'>\n",
      "<class 'float'>\n"
     ]
    }
   ],
   "source": [
    "s = '50'\n",
    "n = int(s)\n",
    "print(type(n))\n",
    "\n",
    "f = float(s)\n",
    "print(type(f))"
   ]
  },
  {
   "cell_type": "code",
   "execution_count": 22,
   "id": "e1a0f4e6-b3d4-4b33-8928-8be74343cad4",
   "metadata": {},
   "outputs": [
    {
     "name": "stdout",
     "output_type": "stream",
     "text": [
      "(6, 7, 8, 9, 10)\n",
      "<class 'tuple'>\n",
      "\n",
      "[1, 2, 3, 4, 5]\n",
      "<class 'list'>\n"
     ]
    }
   ],
   "source": [
    "t = (1,2,3,4,5)\n",
    "l = [6,7,8,9,10]\n",
    "\n",
    "tup = tuple(l)\n",
    "print(tup)\n",
    "print(type(tup))\n",
    "\n",
    "print()\n",
    "\n",
    "listt = list(t)\n",
    "print(listt)\n",
    "print(type(listt))"
   ]
  },
  {
   "cell_type": "code",
   "execution_count": null,
   "id": "e48adb68-f776-44b5-b961-ce70b8840a09",
   "metadata": {},
   "outputs": [],
   "source": []
  },
  {
   "cell_type": "markdown",
   "id": "27dc7b36-6cb9-4f2f-a785-81e7103cdf5f",
   "metadata": {},
   "source": [
    "Q4. How do you write and execute a Python script from the command line?"
   ]
  },
  {
   "cell_type": "code",
   "execution_count": null,
   "id": "7eeff6d5-6f51-46e5-8ca9-7f7eb4b692d6",
   "metadata": {},
   "outputs": [],
   "source": [
    "\"\"\"\n",
    "Different ways to run Python Script\n",
    "Here are the ways with which we can run a Python script.\n",
    "\n",
    "Interactive Mode\n",
    "Command Line\n",
    "Text Editor (VS Code)\n",
    "IDE (PyCharm)\n",
    "\n",
    "\n",
    "1) Interactive Mode:\n",
    "In Interactive Mode, you can run your script line by line in a sequence.\n",
    "To enter in an interactive mode, you will have to open Command Prompt on \n",
    "your windows machine and type ‘python’ and press Enter.\n",
    "\n",
    "Example:\n",
    "print('Hello World !')\n",
    "\n",
    "========================================================================================\n",
    "\n",
    "2)Command Line:\n",
    "To run a Python script store in a ‘.py’ file in command line, we have to write\n",
    "‘python’ keyword before the file name in the command prompt.\n",
    "\n",
    "Example:\n",
    "python hello.py\n",
    "\n",
    "File: hello.py\n",
    "print('hello world')\n",
    "\n",
    "\"\"\""
   ]
  },
  {
   "cell_type": "code",
   "execution_count": null,
   "id": "6cd44f78-ae6e-42af-990a-44b484364f6e",
   "metadata": {},
   "outputs": [],
   "source": []
  },
  {
   "cell_type": "markdown",
   "id": "ce2712bb-ff67-4bde-b867-e824a4b7f6ab",
   "metadata": {},
   "source": [
    "Q5. Given a list my_list = [1, 2, 3, 4, 5], write the code to slice the list and obtain the sub-list [2, 3]."
   ]
  },
  {
   "cell_type": "code",
   "execution_count": 32,
   "id": "599e7243-9c1b-4c65-ac4e-854245d088cb",
   "metadata": {},
   "outputs": [
    {
     "name": "stdout",
     "output_type": "stream",
     "text": [
      "[1, 2, 3, 4, 5]\n"
     ]
    }
   ],
   "source": [
    "my_list = [1,2,3,4,5]\n",
    "print(my_list)"
   ]
  },
  {
   "cell_type": "code",
   "execution_count": 34,
   "id": "4ba427b2-85a5-47e7-bd8e-4261288882e0",
   "metadata": {},
   "outputs": [
    {
     "name": "stdout",
     "output_type": "stream",
     "text": [
      "[2, 3]\n"
     ]
    }
   ],
   "source": [
    "print(my_list[1:3])"
   ]
  },
  {
   "cell_type": "code",
   "execution_count": null,
   "id": "61366cc6-fbee-45d8-9a6d-fb027b19dc34",
   "metadata": {},
   "outputs": [],
   "source": []
  },
  {
   "cell_type": "markdown",
   "id": "d6701d0c-7531-421e-b950-8399c5d7e623",
   "metadata": {},
   "source": [
    "Q6. What is a complex number in mathematics, and how is it represented in Python?"
   ]
  },
  {
   "cell_type": "code",
   "execution_count": null,
   "id": "9f41b2b3-a56c-4608-9c26-7560da9b3905",
   "metadata": {},
   "outputs": [],
   "source": [
    "\"\"\"\n",
    "Complex number in mathematics:\n",
    "Complex numbers are the numbers that are expressed in the form of a+ib where,\n",
    "a,b are real numbers and  ‘i’ is an imaginary number called “iota”. \n",
    "The value of i = (√-1). For example, 2+3i is a complex number, where 2 is a real number (Re)\n",
    "and 3i is an imaginary number (Im). \n",
    "\"\"\""
   ]
  },
  {
   "cell_type": "code",
   "execution_count": 42,
   "id": "feb1a024-c809-4da0-b2d5-f67fededa7a9",
   "metadata": {},
   "outputs": [
    {
     "name": "stdout",
     "output_type": "stream",
     "text": [
      "(1+2j)\n",
      "<class 'complex'>\n",
      "Complex Number: Real Part is =  1.0\n",
      "Complex Number: Imaginary Part is =  2.0\n",
      "\n",
      "(2+3j)\n",
      "<class 'complex'>\n",
      "Complex Number: Real Part is =  2.0\n",
      "Complex Number: Imaginary Part is =  3.0\n"
     ]
    }
   ],
   "source": [
    "# Representation of Complex number in Python:\n",
    "c = 1+2j\n",
    "print(c)\n",
    "print(type(c))\n",
    "print('Complex Number: Real Part is = ', c. real)\n",
    "print('Complex Number: Imaginary Part is = ', c. imag)\n",
    "\n",
    "print()\n",
    "\n",
    "c1 = complex(2,3)\n",
    "print(c1)\n",
    "print(type(c1))\n",
    "print('Complex Number: Real Part is = ', c1. real)\n",
    "print('Complex Number: Imaginary Part is = ', c1. imag)"
   ]
  },
  {
   "cell_type": "code",
   "execution_count": null,
   "id": "53cbacd4-9197-41a6-9f48-ba6b62035a31",
   "metadata": {},
   "outputs": [],
   "source": []
  },
  {
   "cell_type": "markdown",
   "id": "9d820754-39b8-466b-a20a-28b4cda48d28",
   "metadata": {},
   "source": [
    "Q7. What is the correct way to declare a variable named age and assign the value 25 to it?"
   ]
  },
  {
   "cell_type": "code",
   "execution_count": 46,
   "id": "f7eb3e0c-867f-4086-9070-a5e458e846ea",
   "metadata": {},
   "outputs": [
    {
     "name": "stdout",
     "output_type": "stream",
     "text": [
      "25\n"
     ]
    }
   ],
   "source": [
    "age = 25\n",
    "print(age)"
   ]
  },
  {
   "cell_type": "code",
   "execution_count": null,
   "id": "bc0cf195-8dbe-4f96-94cd-37a3fca71a28",
   "metadata": {},
   "outputs": [],
   "source": []
  },
  {
   "cell_type": "markdown",
   "id": "d42b7b02-465c-424f-a865-a575923bae23",
   "metadata": {},
   "source": [
    "Q8. Declare a variable named price and assign the value 9.99 to it. What data type does this variable belong to?"
   ]
  },
  {
   "cell_type": "code",
   "execution_count": 48,
   "id": "5aa0b9cf-12e5-4ab4-9e51-feac27c9f32b",
   "metadata": {},
   "outputs": [
    {
     "name": "stdout",
     "output_type": "stream",
     "text": [
      "9.99\n",
      "\n",
      "Data Type:\n",
      "Variable price belongs to <class 'float'> data type\n"
     ]
    }
   ],
   "source": [
    "price = 9.99\n",
    "print(price)\n",
    "\n",
    "\n",
    "print(\"\\nData Type:\")\n",
    "print('Variable price belongs to ' + str(type(price)) + ' data type')"
   ]
  },
  {
   "cell_type": "code",
   "execution_count": null,
   "id": "c081e9e5-48d0-4180-a65f-799b8f598846",
   "metadata": {},
   "outputs": [],
   "source": []
  },
  {
   "cell_type": "markdown",
   "id": "d9de410d-4413-491a-b655-ccc6301b5b30",
   "metadata": {},
   "source": [
    "Q9. Create a variable named name and assign your full name to it as a string. How would you print the value of this variable?"
   ]
  },
  {
   "cell_type": "code",
   "execution_count": 49,
   "id": "af986c8a-1fac-4d79-b820-8b39c1221e8f",
   "metadata": {},
   "outputs": [
    {
     "name": "stdout",
     "output_type": "stream",
     "text": [
      "Ravikant Verma\n"
     ]
    }
   ],
   "source": [
    "name = 'Ravikant Verma'\n",
    "print(name)"
   ]
  },
  {
   "cell_type": "code",
   "execution_count": null,
   "id": "d5fb58c0-ac65-45c5-82cc-ac22666063df",
   "metadata": {},
   "outputs": [],
   "source": []
  },
  {
   "cell_type": "markdown",
   "id": "94e6b3a8-088b-446b-ada2-85ae1acd5dff",
   "metadata": {},
   "source": [
    "Q10. Given the string \"Hello, World!\", extract the substring \"World\"."
   ]
  },
  {
   "cell_type": "code",
   "execution_count": 51,
   "id": "992931da-bc1e-4c3f-ab1c-8693604a3a3f",
   "metadata": {},
   "outputs": [
    {
     "data": {
      "text/plain": [
       "'World'"
      ]
     },
     "execution_count": 51,
     "metadata": {},
     "output_type": "execute_result"
    }
   ],
   "source": [
    "string = \"Hello World!\"\n",
    "string[6:11]"
   ]
  },
  {
   "cell_type": "code",
   "execution_count": null,
   "id": "1cc2444a-d4d1-4923-bfbb-9f09c5ad8501",
   "metadata": {},
   "outputs": [],
   "source": []
  },
  {
   "cell_type": "markdown",
   "id": "5552964c-24b2-42e6-85a9-daaf8ab19fc7",
   "metadata": {},
   "source": [
    "Q11. Create a variable named \"is_student\" and assign it a boolean value indicating whether you are currently a student or not."
   ]
  },
  {
   "cell_type": "code",
   "execution_count": 56,
   "id": "840fdb4c-f615-48b9-be02-55dc86ed069c",
   "metadata": {},
   "outputs": [
    {
     "name": "stdout",
     "output_type": "stream",
     "text": [
      "False\n",
      "\n",
      "Am I currently a student? :  False\n"
     ]
    }
   ],
   "source": [
    "is_student = False\n",
    "print(is_student)\n",
    "\n",
    "print('\\nAm I currently a student? : ',is_student)"
   ]
  },
  {
   "cell_type": "code",
   "execution_count": null,
   "id": "35dacda5-ca53-4ef1-9aad-6b81d3d35634",
   "metadata": {},
   "outputs": [],
   "source": []
  }
 ],
 "metadata": {
  "kernelspec": {
   "display_name": "Python 3 (ipykernel)",
   "language": "python",
   "name": "python3"
  },
  "language_info": {
   "codemirror_mode": {
    "name": "ipython",
    "version": 3
   },
   "file_extension": ".py",
   "mimetype": "text/x-python",
   "name": "python",
   "nbconvert_exporter": "python",
   "pygments_lexer": "ipython3",
   "version": "3.10.8"
  }
 },
 "nbformat": 4,
 "nbformat_minor": 5
}
