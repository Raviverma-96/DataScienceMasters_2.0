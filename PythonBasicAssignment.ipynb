{
 "cells": [
  {
   "cell_type": "code",
   "execution_count": 11,
   "id": "bf3ec131-f585-4050-b8b0-6cacc33a4453",
   "metadata": {},
   "outputs": [
    {
     "data": {
      "text/plain": [
       "'\\nQ1. Create one variable containing following type of data:\\n(i) string\\n(ii) list\\n(iii) float\\n(iv) tuple\\n'"
      ]
     },
     "execution_count": 11,
     "metadata": {},
     "output_type": "execute_result"
    }
   ],
   "source": [
    "\"\"\"\n",
    "Q1. Create one variable containing following type of data:\n",
    "(i) string\n",
    "(ii) list\n",
    "(iii) float\n",
    "(iv) tuple\n",
    "\"\"\""
   ]
  },
  {
   "cell_type": "code",
   "execution_count": 2,
   "id": "2f764847-d8e2-4cac-897c-dc0f00def573",
   "metadata": {},
   "outputs": [
    {
     "name": "stdout",
     "output_type": "stream",
     "text": [
      "Hello\n"
     ]
    }
   ],
   "source": [
    "# String\n",
    "a = \"Hello\"\n",
    "print(a)"
   ]
  },
  {
   "cell_type": "code",
   "execution_count": 3,
   "id": "f3c57dec-bf8c-4788-8393-ec7e150dbb98",
   "metadata": {},
   "outputs": [
    {
     "name": "stdout",
     "output_type": "stream",
     "text": [
      "[1, 2, 3, 4, 5, 'Data Science', 'Impact 2.0', True, (2+3j)]\n"
     ]
    }
   ],
   "source": [
    "#list\n",
    "l = [1,2,3,4,5,\"Data Science\",\"Impact 2.0\",True, 2+3j]\n",
    "print(l)"
   ]
  },
  {
   "cell_type": "code",
   "execution_count": 4,
   "id": "c8c5085e-54fa-463f-99b6-39ff61347fa6",
   "metadata": {},
   "outputs": [
    {
     "name": "stdout",
     "output_type": "stream",
     "text": [
      "20.46\n"
     ]
    }
   ],
   "source": [
    "# float\n",
    "f = 20.46\n",
    "print(f)"
   ]
  },
  {
   "cell_type": "code",
   "execution_count": 9,
   "id": "f1c33788-98a1-4118-a3aa-a0a4feeffdd5",
   "metadata": {},
   "outputs": [
    {
     "name": "stdout",
     "output_type": "stream",
     "text": [
      "(1, 2, 3, 4, 'ravi', True, 26, 'male', (1+2j))\n"
     ]
    }
   ],
   "source": [
    "# tuple\n",
    "tup = (1,2,3,4,\"ravi\", True, 26, \"male\",1+2j)\n",
    "print(tup)"
   ]
  },
  {
   "cell_type": "code",
   "execution_count": null,
   "id": "f67b93ee-4402-435e-9d35-d3cee00f37f2",
   "metadata": {},
   "outputs": [],
   "source": []
  },
  {
   "cell_type": "code",
   "execution_count": 74,
   "id": "1409469a-9aa1-4471-b2a9-18e1e4e29a30",
   "metadata": {},
   "outputs": [
    {
     "data": {
      "text/plain": [
       "'\\nQ2. Given are some following variables containing data:\\n(i) var1 = ‘‘\\n(ii) var2 = ‘[ DS , ML , Python]’\\n(iii) var3 = [ ‘DS’ , ’ML’ , ‘Python’ ]\\n(iv) var4 = 1.\\nWhat will be the data type of the above given variable.\\n'"
      ]
     },
     "execution_count": 74,
     "metadata": {},
     "output_type": "execute_result"
    }
   ],
   "source": [
    "\"\"\"\n",
    "Q2. Given are some following variables containing data:\n",
    "(i) var1 = ‘‘\n",
    "(ii) var2 = ‘[ DS , ML , Python]’\n",
    "(iii) var3 = [ ‘DS’ , ’ML’ , ‘Python’ ]\n",
    "(iv) var4 = 1.\n",
    "What will be the data type of the above given variable.\n",
    "\"\"\""
   ]
  },
  {
   "cell_type": "code",
   "execution_count": 19,
   "id": "685091e4-a00a-4f30-8925-0fd01075d183",
   "metadata": {},
   "outputs": [
    {
     "data": {
      "text/plain": [
       "str"
      ]
     },
     "execution_count": 19,
     "metadata": {},
     "output_type": "execute_result"
    }
   ],
   "source": [
    "var1 = ''\n",
    "type(var1)"
   ]
  },
  {
   "cell_type": "code",
   "execution_count": 20,
   "id": "b615c9ce-87d8-4f22-9b38-e5b5a667cff0",
   "metadata": {},
   "outputs": [
    {
     "data": {
      "text/plain": [
       "str"
      ]
     },
     "execution_count": 20,
     "metadata": {},
     "output_type": "execute_result"
    }
   ],
   "source": [
    "var2 = '[ DS , ML , Python]'\n",
    "type(var2)"
   ]
  },
  {
   "cell_type": "code",
   "execution_count": 22,
   "id": "b41db634-1301-4173-a755-8aa1224249c9",
   "metadata": {},
   "outputs": [
    {
     "data": {
      "text/plain": [
       "list"
      ]
     },
     "execution_count": 22,
     "metadata": {},
     "output_type": "execute_result"
    }
   ],
   "source": [
    "var3 = [ 'DS' , 'ML' , 'Python' ]\n",
    "type(var3)"
   ]
  },
  {
   "cell_type": "code",
   "execution_count": 23,
   "id": "76613271-eb6a-479b-b441-7a03ff711a2f",
   "metadata": {},
   "outputs": [
    {
     "data": {
      "text/plain": [
       "int"
      ]
     },
     "execution_count": 23,
     "metadata": {},
     "output_type": "execute_result"
    }
   ],
   "source": [
    "var4 = 1\n",
    "type(var4)"
   ]
  },
  {
   "cell_type": "code",
   "execution_count": null,
   "id": "3e1f37d8-381c-47e4-900b-2020b698b7d8",
   "metadata": {},
   "outputs": [],
   "source": []
  },
  {
   "cell_type": "code",
   "execution_count": 24,
   "id": "426ecc60-7b31-4473-a815-104a039f39b4",
   "metadata": {},
   "outputs": [
    {
     "data": {
      "text/plain": [
       "'\\nQ3. Explain the use of the following operators using an example:\\n(i) /\\n(ii) %\\n(iii) //\\n(iv) **\\n'"
      ]
     },
     "execution_count": 24,
     "metadata": {},
     "output_type": "execute_result"
    }
   ],
   "source": [
    "\"\"\"\n",
    "Q3. Explain the use of the following operators using an example:\n",
    "(i) /\n",
    "(ii) %\n",
    "(iii) //\n",
    "(iv) **\n",
    "\"\"\""
   ]
  },
  {
   "cell_type": "code",
   "execution_count": 25,
   "id": "45d1bf12-b28e-4915-b12c-fdf9ad3dd2f8",
   "metadata": {},
   "outputs": [
    {
     "name": "stdout",
     "output_type": "stream",
     "text": [
      "2.0\n",
      "2.5\n"
     ]
    }
   ],
   "source": [
    "# Use of /\n",
    "x = 4/2\n",
    "y = 5/2\n",
    "print(x) #Division\n",
    "print(y) #Division"
   ]
  },
  {
   "cell_type": "code",
   "execution_count": 26,
   "id": "93bb14aa-811a-4db1-969b-5582e7c7205e",
   "metadata": {},
   "outputs": [
    {
     "name": "stdout",
     "output_type": "stream",
     "text": [
      "1\n"
     ]
    }
   ],
   "source": [
    "# Use of %\n",
    "z = 5%2 #remainder\n",
    "print(z)"
   ]
  },
  {
   "cell_type": "code",
   "execution_count": 27,
   "id": "4403a908-8e3b-4b5d-a542-42691cab9253",
   "metadata": {},
   "outputs": [
    {
     "name": "stdout",
     "output_type": "stream",
     "text": [
      "1\n"
     ]
    }
   ],
   "source": [
    "# Use of //\n",
    "w = 5//3 #floor division\n",
    "print(w)"
   ]
  },
  {
   "cell_type": "code",
   "execution_count": 28,
   "id": "d56313ba-d64e-4fdc-a96c-dd224fe92164",
   "metadata": {},
   "outputs": [
    {
     "name": "stdout",
     "output_type": "stream",
     "text": [
      "8\n"
     ]
    }
   ],
   "source": [
    "# Use of **\n",
    "d = 2**3 #Exponentiation\n",
    "print(d)"
   ]
  },
  {
   "cell_type": "code",
   "execution_count": null,
   "id": "882602ad-6937-4908-8cfc-2dfd8ac4931e",
   "metadata": {},
   "outputs": [],
   "source": []
  },
  {
   "cell_type": "code",
   "execution_count": 29,
   "id": "b821d1f6-45dd-4222-a2cc-c010fb8227ad",
   "metadata": {},
   "outputs": [
    {
     "data": {
      "text/plain": [
       "'\\nQ4. Create a list of length 10 of your choice containing multiple types of data. Using for loop print the\\nelement and its data type.\\n'"
      ]
     },
     "execution_count": 29,
     "metadata": {},
     "output_type": "execute_result"
    }
   ],
   "source": [
    "\"\"\"\n",
    "Q4. Create a list of length 10 of your choice containing multiple types of data. Using for loop print the\n",
    "element and its data type.\n",
    "\"\"\""
   ]
  },
  {
   "cell_type": "code",
   "execution_count": 31,
   "id": "cf8bd184-78c7-474a-b7bd-7b0acf3ff043",
   "metadata": {},
   "outputs": [
    {
     "name": "stdout",
     "output_type": "stream",
     "text": [
      "10\n",
      "[1, 2, 3, 4, 5, 6, 'ravi', 'verma', True, (1+2j)]\n"
     ]
    }
   ],
   "source": [
    "l = [1,2,3,4,5,6,\"ravi\",\"verma\",True,1+2j]\n",
    "print(len(l))\n",
    "print(l)"
   ]
  },
  {
   "cell_type": "code",
   "execution_count": 40,
   "id": "bc6b277a-5d6d-4569-8331-db7925162d49",
   "metadata": {},
   "outputs": [
    {
     "name": "stdout",
     "output_type": "stream",
     "text": [
      "1 <class 'int'>\n",
      "2 <class 'int'>\n",
      "3 <class 'int'>\n",
      "4 <class 'int'>\n",
      "5 <class 'int'>\n",
      "6 <class 'int'>\n",
      "ravi <class 'str'>\n",
      "verma <class 'str'>\n",
      "True <class 'bool'>\n",
      "(1+2j) <class 'complex'>\n"
     ]
    }
   ],
   "source": [
    "for i in l:\n",
    "    print(i, type(i))"
   ]
  },
  {
   "cell_type": "code",
   "execution_count": null,
   "id": "4429e530-f296-4eb7-b876-deb1356c203a",
   "metadata": {},
   "outputs": [],
   "source": []
  },
  {
   "cell_type": "code",
   "execution_count": 41,
   "id": "8b23af2b-b4c1-4706-a30c-9d9ca4ab4273",
   "metadata": {},
   "outputs": [
    {
     "data": {
      "text/plain": [
       "'\\nQ5. Using a while loop, verify if the number A is purely divisible by number B and if so then how many\\ntimes it can be divisible.\\n'"
      ]
     },
     "execution_count": 41,
     "metadata": {},
     "output_type": "execute_result"
    }
   ],
   "source": [
    "\"\"\"\n",
    "Q5. Using a while loop, verify if the number A is purely divisible by number B and if so then how many\n",
    "times it can be divisible.\n",
    "\"\"\""
   ]
  },
  {
   "cell_type": "code",
   "execution_count": 5,
   "id": "2570a9ea-6bd7-4b42-bb1e-de76f45f4043",
   "metadata": {},
   "outputs": [
    {
     "name": "stdin",
     "output_type": "stream",
     "text": [
      "Enter number for A: 12\n",
      "Enter number for B: 2\n"
     ]
    },
    {
     "name": "stdout",
     "output_type": "stream",
     "text": [
      "Number of times it can be divisible: 2\n"
     ]
    }
   ],
   "source": [
    "A = int(input('Enter number for A:'))\n",
    "B = int(input('Enter number for B:'))\n",
    "counter=0\n",
    "while A%B==0 and A!=0:\n",
    "    A = A//B\n",
    "    counter+=1\n",
    "print(\"Number of times it can be divisible:\",counter)"
   ]
  },
  {
   "cell_type": "code",
   "execution_count": null,
   "id": "f7ce61ee-b539-49f5-b23e-ef235b7d6611",
   "metadata": {},
   "outputs": [],
   "source": []
  },
  {
   "cell_type": "code",
   "execution_count": 44,
   "id": "bc9aa7a1-c284-4bd3-b107-e6dbceee6a2d",
   "metadata": {},
   "outputs": [
    {
     "data": {
      "text/plain": [
       "'\\nQ6. Create a list containing 25 int type data. Using for loop and if-else condition print if the element is\\ndivisible by 3 or not.\\n'"
      ]
     },
     "execution_count": 44,
     "metadata": {},
     "output_type": "execute_result"
    }
   ],
   "source": [
    "\"\"\"\n",
    "Q6. Create a list containing 25 int type data. Using for loop and if-else condition print if the element is\n",
    "divisible by 3 or not.\n",
    "\"\"\""
   ]
  },
  {
   "cell_type": "code",
   "execution_count": 2,
   "id": "d56eb017-1dd9-4679-b8b2-14015d357f2d",
   "metadata": {},
   "outputs": [],
   "source": [
    "k = list(range(1,26))"
   ]
  },
  {
   "cell_type": "code",
   "execution_count": 3,
   "id": "e3c36d01-be6f-433e-a464-6d8022148883",
   "metadata": {},
   "outputs": [
    {
     "name": "stdout",
     "output_type": "stream",
     "text": [
      "[1, 2, 3, 4, 5, 6, 7, 8, 9, 10, 11, 12, 13, 14, 15, 16, 17, 18, 19, 20, 21, 22, 23, 24, 25]\n"
     ]
    }
   ],
   "source": [
    "print(k)"
   ]
  },
  {
   "cell_type": "code",
   "execution_count": 54,
   "id": "433fe00b-3241-4380-9344-83a4f3206453",
   "metadata": {},
   "outputs": [
    {
     "data": {
      "text/plain": [
       "list"
      ]
     },
     "execution_count": 54,
     "metadata": {},
     "output_type": "execute_result"
    }
   ],
   "source": [
    "type(k)"
   ]
  },
  {
   "cell_type": "code",
   "execution_count": 61,
   "id": "854db7d4-913d-4811-8f78-78bd88e9108c",
   "metadata": {},
   "outputs": [
    {
     "name": "stdout",
     "output_type": "stream",
     "text": [
      "1 is not divisible by 3\n",
      "2 is not divisible by 3\n",
      "3 is divisible by 3\n",
      "4 is not divisible by 3\n",
      "5 is not divisible by 3\n",
      "6 is divisible by 3\n",
      "7 is not divisible by 3\n",
      "8 is not divisible by 3\n",
      "9 is divisible by 3\n",
      "10 is not divisible by 3\n",
      "11 is not divisible by 3\n",
      "12 is divisible by 3\n",
      "13 is not divisible by 3\n",
      "14 is not divisible by 3\n",
      "15 is divisible by 3\n",
      "16 is not divisible by 3\n",
      "17 is not divisible by 3\n",
      "18 is divisible by 3\n",
      "19 is not divisible by 3\n",
      "20 is not divisible by 3\n",
      "21 is divisible by 3\n",
      "22 is not divisible by 3\n",
      "23 is not divisible by 3\n",
      "24 is divisible by 3\n",
      "25 is not divisible by 3\n"
     ]
    }
   ],
   "source": [
    "for m in k:\n",
    "    if(m%3 == 0):\n",
    "        print(m,\"is divisible by 3\")\n",
    "    else:\n",
    "        print(m,\"is not divisible by 3\")"
   ]
  },
  {
   "cell_type": "code",
   "execution_count": null,
   "id": "7e2b024f-591c-4200-8d0d-087d34a007bd",
   "metadata": {},
   "outputs": [],
   "source": []
  },
  {
   "cell_type": "code",
   "execution_count": 62,
   "id": "6348f106-5b53-4867-96a9-c9a65c829554",
   "metadata": {},
   "outputs": [
    {
     "data": {
      "text/plain": [
       "'\\nQ7. What do you understand about mutable and immutable data types? Give examples for both showing\\nthis property.\\n'"
      ]
     },
     "execution_count": 62,
     "metadata": {},
     "output_type": "execute_result"
    }
   ],
   "source": [
    "\"\"\"\n",
    "Q7. What do you understand about mutable and immutable data types? Give examples for both showing\n",
    "this property.\n",
    "\"\"\""
   ]
  },
  {
   "cell_type": "code",
   "execution_count": 63,
   "id": "38dcb55c-f505-42ed-b3a7-b58ee5a777f1",
   "metadata": {},
   "outputs": [],
   "source": [
    "p = [1,2,3,4,5,6,\"ravi\",\"verma\",True,1+2j]"
   ]
  },
  {
   "cell_type": "code",
   "execution_count": 64,
   "id": "6031a42c-0aa5-41ec-bbf1-8a911edd530f",
   "metadata": {},
   "outputs": [
    {
     "data": {
      "text/plain": [
       "[1, 2, 3, 4, 5, 6, 'ravi', 'verma', True, (1+2j)]"
      ]
     },
     "execution_count": 64,
     "metadata": {},
     "output_type": "execute_result"
    }
   ],
   "source": [
    "p"
   ]
  },
  {
   "cell_type": "code",
   "execution_count": 65,
   "id": "ce2e1af3-722f-441f-a4d4-697a95b6db7b",
   "metadata": {},
   "outputs": [],
   "source": [
    "# Mutable\n",
    "p[7]=100"
   ]
  },
  {
   "cell_type": "code",
   "execution_count": 66,
   "id": "78008a42-db14-423d-9dcd-ae4d1e93149e",
   "metadata": {},
   "outputs": [
    {
     "data": {
      "text/plain": [
       "[1, 2, 3, 4, 5, 6, 'ravi', 100, True, (1+2j)]"
      ]
     },
     "execution_count": 66,
     "metadata": {},
     "output_type": "execute_result"
    }
   ],
   "source": [
    "p"
   ]
  },
  {
   "cell_type": "code",
   "execution_count": 67,
   "id": "b16fa4b0-695f-43ab-a7ac-7ea49f6062be",
   "metadata": {},
   "outputs": [
    {
     "data": {
      "text/plain": [
       "'ravi'"
      ]
     },
     "execution_count": 67,
     "metadata": {},
     "output_type": "execute_result"
    }
   ],
   "source": [
    "# Imutable\n",
    "s = \"ravi\"\n",
    "s"
   ]
  },
  {
   "cell_type": "code",
   "execution_count": 68,
   "id": "7b546759-93c1-4121-8e7e-59bea165b5ab",
   "metadata": {},
   "outputs": [
    {
     "data": {
      "text/plain": [
       "'v'"
      ]
     },
     "execution_count": 68,
     "metadata": {},
     "output_type": "execute_result"
    }
   ],
   "source": [
    "s[2]"
   ]
  },
  {
   "cell_type": "code",
   "execution_count": 73,
   "id": "faae204d-172d-43f7-8a29-0a4be2e3f942",
   "metadata": {},
   "outputs": [
    {
     "ename": "TypeError",
     "evalue": "'str' object does not support item assignment",
     "output_type": "error",
     "traceback": [
      "\u001b[0;31m---------------------------------------------------------------------------\u001b[0m",
      "\u001b[0;31mTypeError\u001b[0m                                 Traceback (most recent call last)",
      "Cell \u001b[0;32mIn[73], line 2\u001b[0m\n\u001b[1;32m      1\u001b[0m \u001b[38;5;66;03m# Immutable\u001b[39;00m\n\u001b[0;32m----> 2\u001b[0m \u001b[43ms\u001b[49m\u001b[43m[\u001b[49m\u001b[38;5;241;43m2\u001b[39;49m\u001b[43m]\u001b[49m \u001b[38;5;241m=\u001b[39m \u001b[38;5;124m'\u001b[39m\u001b[38;5;124ma\u001b[39m\u001b[38;5;124m'\u001b[39m\n",
      "\u001b[0;31mTypeError\u001b[0m: 'str' object does not support item assignment"
     ]
    }
   ],
   "source": [
    "# Immutable\n",
    "s[2] = 'a'"
   ]
  },
  {
   "cell_type": "code",
   "execution_count": null,
   "id": "c7be0a76-a2e9-4b16-8fff-5c5c9bd07e71",
   "metadata": {},
   "outputs": [],
   "source": []
  }
 ],
 "metadata": {
  "kernelspec": {
   "display_name": "Python 3 (ipykernel)",
   "language": "python",
   "name": "python3"
  },
  "language_info": {
   "codemirror_mode": {
    "name": "ipython",
    "version": 3
   },
   "file_extension": ".py",
   "mimetype": "text/x-python",
   "name": "python",
   "nbconvert_exporter": "python",
   "pygments_lexer": "ipython3",
   "version": "3.10.8"
  }
 },
 "nbformat": 4,
 "nbformat_minor": 5
}
